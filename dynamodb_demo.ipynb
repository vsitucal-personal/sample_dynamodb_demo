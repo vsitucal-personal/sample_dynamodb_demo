{
 "cells": [
  {
   "cell_type": "markdown",
   "id": "68cd5c50-97f5-42be-a000-ff71574eb9db",
   "metadata": {},
   "source": [
    "# DynamoDB Basics Demo\n",
    "---"
   ]
  },
  {
   "cell_type": "markdown",
   "id": "d538cb78-e9a6-4216-8079-fcd042e7be2f",
   "metadata": {
    "tags": []
   },
   "source": [
    "**Setup Imports**"
   ]
  },
  {
   "cell_type": "code",
   "execution_count": 1,
   "id": "f3c1b1e3-bcfc-429a-99e4-9bacf6eed1c5",
   "metadata": {
    "tags": []
   },
   "outputs": [],
   "source": [
    "import json\n",
    "import decouple\n",
    "from repository.sample_txn_repo import SampleTxnRepo\n",
    "\n",
    "config = decouple.AutoConfig(' ')\n",
    "repo = SampleTxnRepo(config)"
   ]
  },
  {
   "cell_type": "markdown",
   "id": "cbcb89c2-be7a-4d17-9888-ce7608d984b5",
   "metadata": {
    "tags": []
   },
   "source": [
    "**Scan**"
   ]
  },
  {
   "cell_type": "markdown",
   "id": "6e79e966-2820-41d8-bac2-f42cfb67fd3b",
   "metadata": {},
   "source": [
    "output scanned items from table as string"
   ]
  },
  {
   "cell_type": "code",
   "execution_count": 2,
   "id": "4bfb59e4-e59d-4010-b0c9-6fd362927340",
   "metadata": {
    "tags": []
   },
   "outputs": [
    {
     "data": {
      "text/plain": [
       "'{\"transactions\": [{\"txn_id\": \"2\", \"client_id\": \"1\", \"amount\": 100.0, \"ccy\": \"USD\", \"balance\": {\"PHP\": 100, \"USD\": 100}, \"business_date\": \"2022\"}, {\"txn_id\": \"1\", \"client_id\": \"1\", \"amount\": 100.0, \"ccy\": \"PHP\", \"balance\": {\"PHP\": 100, \"USD\": 0}, \"business_date\": \"2021\"}, {\"txn_id\": \"4\", \"client_id\": \"2\", \"amount\": 200.0, \"ccy\": \"USD\", \"balance\": {\"PHP\": 200, \"USD\": 200}, \"business_date\": \"2024\"}, {\"txn_id\": \"3\", \"client_id\": \"2\", \"amount\": 200.0, \"ccy\": \"PHP\", \"balance\": {\"PHP\": 200, \"USD\": 0}, \"business_date\": \"2023\"}]}'"
      ]
     },
     "execution_count": 2,
     "metadata": {},
     "output_type": "execute_result"
    }
   ],
   "source": [
    "scan_result = repo.scan()\n",
    "str(json.dumps(scan_result))"
   ]
  },
  {
   "cell_type": "markdown",
   "id": "1796fc85-2906-4072-953d-54a8e2c8962f",
   "metadata": {},
   "source": [
    "convert to pandas dataframe:"
   ]
  },
  {
   "cell_type": "code",
   "execution_count": 3,
   "id": "8a8bd1f0-a434-4f6a-ae80-824d082ad876",
   "metadata": {
    "tags": []
   },
   "outputs": [
    {
     "data": {
      "text/html": [
       "<div>\n",
       "<style scoped>\n",
       "    .dataframe tbody tr th:only-of-type {\n",
       "        vertical-align: middle;\n",
       "    }\n",
       "\n",
       "    .dataframe tbody tr th {\n",
       "        vertical-align: top;\n",
       "    }\n",
       "\n",
       "    .dataframe thead th {\n",
       "        text-align: right;\n",
       "    }\n",
       "</style>\n",
       "<table border=\"1\" class=\"dataframe\">\n",
       "  <thead>\n",
       "    <tr style=\"text-align: right;\">\n",
       "      <th></th>\n",
       "      <th>txn_id</th>\n",
       "      <th>client_id</th>\n",
       "      <th>amount</th>\n",
       "      <th>ccy</th>\n",
       "      <th>balance</th>\n",
       "      <th>business_date</th>\n",
       "    </tr>\n",
       "  </thead>\n",
       "  <tbody>\n",
       "    <tr>\n",
       "      <th>0</th>\n",
       "      <td>2</td>\n",
       "      <td>1</td>\n",
       "      <td>100.0</td>\n",
       "      <td>USD</td>\n",
       "      <td>{'PHP': 100, 'USD': 100}</td>\n",
       "      <td>2022</td>\n",
       "    </tr>\n",
       "    <tr>\n",
       "      <th>1</th>\n",
       "      <td>1</td>\n",
       "      <td>1</td>\n",
       "      <td>100.0</td>\n",
       "      <td>PHP</td>\n",
       "      <td>{'PHP': 100, 'USD': 0}</td>\n",
       "      <td>2021</td>\n",
       "    </tr>\n",
       "    <tr>\n",
       "      <th>2</th>\n",
       "      <td>4</td>\n",
       "      <td>2</td>\n",
       "      <td>200.0</td>\n",
       "      <td>USD</td>\n",
       "      <td>{'PHP': 200, 'USD': 200}</td>\n",
       "      <td>2024</td>\n",
       "    </tr>\n",
       "    <tr>\n",
       "      <th>3</th>\n",
       "      <td>3</td>\n",
       "      <td>2</td>\n",
       "      <td>200.0</td>\n",
       "      <td>PHP</td>\n",
       "      <td>{'PHP': 200, 'USD': 0}</td>\n",
       "      <td>2023</td>\n",
       "    </tr>\n",
       "  </tbody>\n",
       "</table>\n",
       "</div>"
      ],
      "text/plain": [
       "   txn_id  client_id  amount  ccy                   balance  business_date\n",
       "0       2          1   100.0  USD  {'PHP': 100, 'USD': 100}           2022\n",
       "1       1          1   100.0  PHP    {'PHP': 100, 'USD': 0}           2021\n",
       "2       4          2   200.0  USD  {'PHP': 200, 'USD': 200}           2024\n",
       "3       3          2   200.0  PHP    {'PHP': 200, 'USD': 0}           2023"
      ]
     },
     "execution_count": 3,
     "metadata": {},
     "output_type": "execute_result"
    }
   ],
   "source": [
    "df_pandas = repo.convert_list_of_dicts_to_pandas_df(scan_result[\"transactions\"])\n",
    "df_pandas"
   ]
  },
  {
   "cell_type": "markdown",
   "id": "c553156d-f4b6-44da-85af-017fd896cb59",
   "metadata": {},
   "source": [
    "convert to spark dataframe:"
   ]
  },
  {
   "cell_type": "code",
   "execution_count": 4,
   "id": "1d5d3ad6-f590-42d9-9080-c5b84789c712",
   "metadata": {
    "tags": []
   },
   "outputs": [
    {
     "name": "stdout",
     "output_type": "stream",
     "text": [
      "+------+---------+------+---+--------------------+-------------+\n",
      "|txn_id|client_id|amount|ccy|             balance|business_date|\n",
      "+------+---------+------+---+--------------------+-------------+\n",
      "|     2|        1| 100.0|USD|{'PHP': 100, 'USD...|         2022|\n",
      "|     1|        1| 100.0|PHP|{'PHP': 100, 'USD...|         2021|\n",
      "|     4|        2| 200.0|USD|{'PHP': 200, 'USD...|         2024|\n",
      "|     3|        2| 200.0|PHP|{'PHP': 200, 'USD...|         2023|\n",
      "+------+---------+------+---+--------------------+-------------+\n",
      "\n"
     ]
    }
   ],
   "source": [
    "df_spark = repo.convert_pandas_df_to_spark_df(df_pandas)\n",
    "df_spark.show()"
   ]
  },
  {
   "cell_type": "markdown",
   "id": "e2e8f361-63bb-4b17-8bef-bedf74b91805",
   "metadata": {},
   "source": [
    "**Get Item**"
   ]
  },
  {
   "cell_type": "code",
   "execution_count": 5,
   "id": "91dd2541-19f2-4661-9217-33b2656f0f5d",
   "metadata": {
    "tags": []
   },
   "outputs": [
    {
     "data": {
      "text/plain": [
       "OrderedDict([('txn_id', '1'),\n",
       "             ('client_id', '1'),\n",
       "             ('amount', 100.0),\n",
       "             ('ccy', 'PHP'),\n",
       "             ('balance', {'PHP': Decimal('100'), 'USD': Decimal('0')}),\n",
       "             ('business_date', '2021')])"
      ]
     },
     "execution_count": 5,
     "metadata": {},
     "output_type": "execute_result"
    }
   ],
   "source": [
    "txn_id_1 = repo.get_item(\"1\")\n",
    "txn_id_1"
   ]
  },
  {
   "cell_type": "code",
   "execution_count": 6,
   "id": "2701db6c-448a-4a98-8321-2634aad3211c",
   "metadata": {
    "tags": []
   },
   "outputs": [
    {
     "data": {
      "text/html": [
       "<div>\n",
       "<style scoped>\n",
       "    .dataframe tbody tr th:only-of-type {\n",
       "        vertical-align: middle;\n",
       "    }\n",
       "\n",
       "    .dataframe tbody tr th {\n",
       "        vertical-align: top;\n",
       "    }\n",
       "\n",
       "    .dataframe thead th {\n",
       "        text-align: right;\n",
       "    }\n",
       "</style>\n",
       "<table border=\"1\" class=\"dataframe\">\n",
       "  <thead>\n",
       "    <tr style=\"text-align: right;\">\n",
       "      <th></th>\n",
       "      <th>txn_id</th>\n",
       "      <th>client_id</th>\n",
       "      <th>amount</th>\n",
       "      <th>ccy</th>\n",
       "      <th>balance</th>\n",
       "      <th>business_date</th>\n",
       "    </tr>\n",
       "  </thead>\n",
       "  <tbody>\n",
       "    <tr>\n",
       "      <th>0</th>\n",
       "      <td>1</td>\n",
       "      <td>1</td>\n",
       "      <td>100.0</td>\n",
       "      <td>PHP</td>\n",
       "      <td>{'PHP': Decimal('100'), 'USD': Decimal('0')}</td>\n",
       "      <td>2021</td>\n",
       "    </tr>\n",
       "  </tbody>\n",
       "</table>\n",
       "</div>"
      ],
      "text/plain": [
       "   txn_id  client_id  amount  ccy   \n",
       "0       1          1   100.0  PHP  \\\n",
       "\n",
       "                                        balance  business_date  \n",
       "0  {'PHP': Decimal('100'), 'USD': Decimal('0')}           2021  "
      ]
     },
     "execution_count": 6,
     "metadata": {},
     "output_type": "execute_result"
    }
   ],
   "source": [
    "df_pandas = repo.convert_list_of_dicts_to_pandas_df([txn_id_1])\n",
    "df_pandas"
   ]
  },
  {
   "cell_type": "markdown",
   "id": "73e2ae93-bfbb-44e9-9b57-701818ae657c",
   "metadata": {},
   "source": [
    "**Put Item**\n",
    "\n",
    "with example of new item inserted with different schema\n",
    "\n",
    "by default put item operation always overwrites the currect item based on its primary key\n",
    "\n",
    "with conditional operations it can check whether item exists before executing the put item operation"
   ]
  },
  {
   "cell_type": "code",
   "execution_count": 7,
   "id": "6d0af5c1-9bd7-4cc9-bf00-86101864a20e",
   "metadata": {
    "tags": []
   },
   "outputs": [],
   "source": [
    "item_to_put = {\n",
    "    \"txn_id\": \"5\",\n",
    "    \"client_id\": \"3\",\n",
    "    \"amount\": 100,\n",
    "    \"ccy\": \"PHP\",\n",
    "    \"balance\": {\n",
    "        \"PHP\": 100,\n",
    "        \"USD\": 0\n",
    "    },\n",
    "    \"business_date\": \"2025\",\n",
    "    \"some_random_new_field\": \"xxx\"\n",
    "}"
   ]
  },
  {
   "cell_type": "code",
   "execution_count": 8,
   "id": "e9e5cf45-11d6-4b66-8ff8-6ed6f6cf73c7",
   "metadata": {
    "tags": []
   },
   "outputs": [
    {
     "name": "stdout",
     "output_type": "stream",
     "text": [
      "[2023-05-07 15:59:11][sample_txn_repo][put_item][DEBUG]: Saved: {'txn_id': '5', 'client_id': '3', 'amount': 100, 'ccy': 'PHP', 'balance': {'PHP': 100, 'USD': 0}, 'business_date': '2025', 'some_random_new_field': 'xxx'}\n"
     ]
    }
   ],
   "source": [
    "repo.put_item(item_to_put)"
   ]
  },
  {
   "cell_type": "code",
   "execution_count": 9,
   "id": "0df47a45-19db-42e1-ab2a-ab4ebf7f2ebe",
   "metadata": {
    "tags": []
   },
   "outputs": [
    {
     "data": {
      "text/plain": [
       "OrderedDict([('txn_id', '5'),\n",
       "             ('client_id', '3'),\n",
       "             ('amount', 100.0),\n",
       "             ('ccy', 'PHP'),\n",
       "             ('balance', {'PHP': Decimal('100'), 'USD': Decimal('0')}),\n",
       "             ('business_date', '2025')])"
      ]
     },
     "execution_count": 9,
     "metadata": {},
     "output_type": "execute_result"
    }
   ],
   "source": [
    "txn_id_5 = repo.get_item(\"5\")\n",
    "txn_id_5"
   ]
  },
  {
   "cell_type": "markdown",
   "id": "e771ac19-dd6f-484e-a859-fa546b786c9a",
   "metadata": {},
   "source": [
    "**Delete Item**"
   ]
  },
  {
   "cell_type": "code",
   "execution_count": 10,
   "id": "ced0db3f-2586-4afa-8ac1-70f61e1c04d6",
   "metadata": {
    "tags": []
   },
   "outputs": [
    {
     "name": "stdout",
     "output_type": "stream",
     "text": [
      "[2023-05-07 15:59:11][sample_txn_repo][delete_item][DEBUG]: Deleted item with key: {'txn_id': '5'}\n"
     ]
    }
   ],
   "source": [
    "repo.delete_item(\"5\")"
   ]
  },
  {
   "cell_type": "markdown",
   "id": "c1d6b2a5-42d7-43a5-95d8-fe3cb1e8d50a",
   "metadata": {},
   "source": [
    "**Query with GSI**"
   ]
  },
  {
   "cell_type": "code",
   "execution_count": 11,
   "id": "2a31a213-2e18-492c-8845-38abf8135eee",
   "metadata": {
    "tags": []
   },
   "outputs": [
    {
     "name": "stdout",
     "output_type": "stream",
     "text": [
      "data: OrderedDict([('transactions', [OrderedDict([('txn_id', '1'), ('client_id', '1'), ('amount', 100.0), ('ccy', 'PHP'), ('balance', {'PHP': Decimal('100'), 'USD': Decimal('0')}), ('business_date', '2021')]), OrderedDict([('txn_id', '2'), ('client_id', '1'), ('amount', 100.0), ('ccy', 'USD'), ('balance', {'PHP': Decimal('100'), 'USD': Decimal('100')}), ('business_date', '2022')])])])\n",
      "last key: None\n"
     ]
    }
   ],
   "source": [
    "txn_hist_client_1, last_key = repo.query(\"1\", \"2020\", \"2030\")\n",
    "print(\"data: \" + str(txn_hist_client_1))\n",
    "print(\"last key: \" + str(last_key))"
   ]
  },
  {
   "cell_type": "code",
   "execution_count": 12,
   "id": "619d96b3-d197-4a4f-822b-9a46f8871c6b",
   "metadata": {
    "tags": []
   },
   "outputs": [
    {
     "data": {
      "text/html": [
       "<div>\n",
       "<style scoped>\n",
       "    .dataframe tbody tr th:only-of-type {\n",
       "        vertical-align: middle;\n",
       "    }\n",
       "\n",
       "    .dataframe tbody tr th {\n",
       "        vertical-align: top;\n",
       "    }\n",
       "\n",
       "    .dataframe thead th {\n",
       "        text-align: right;\n",
       "    }\n",
       "</style>\n",
       "<table border=\"1\" class=\"dataframe\">\n",
       "  <thead>\n",
       "    <tr style=\"text-align: right;\">\n",
       "      <th></th>\n",
       "      <th>txn_id</th>\n",
       "      <th>client_id</th>\n",
       "      <th>amount</th>\n",
       "      <th>ccy</th>\n",
       "      <th>balance</th>\n",
       "      <th>business_date</th>\n",
       "    </tr>\n",
       "  </thead>\n",
       "  <tbody>\n",
       "    <tr>\n",
       "      <th>0</th>\n",
       "      <td>1</td>\n",
       "      <td>1</td>\n",
       "      <td>100.0</td>\n",
       "      <td>PHP</td>\n",
       "      <td>{'PHP': Decimal('100'), 'USD': Decimal('0')}</td>\n",
       "      <td>2021</td>\n",
       "    </tr>\n",
       "    <tr>\n",
       "      <th>1</th>\n",
       "      <td>2</td>\n",
       "      <td>1</td>\n",
       "      <td>100.0</td>\n",
       "      <td>USD</td>\n",
       "      <td>{'PHP': Decimal('100'), 'USD': Decimal('100')}</td>\n",
       "      <td>2022</td>\n",
       "    </tr>\n",
       "  </tbody>\n",
       "</table>\n",
       "</div>"
      ],
      "text/plain": [
       "   txn_id  client_id  amount  ccy   \n",
       "0       1          1   100.0  PHP  \\\n",
       "1       2          1   100.0  USD   \n",
       "\n",
       "                                          balance  business_date  \n",
       "0    {'PHP': Decimal('100'), 'USD': Decimal('0')}           2021  \n",
       "1  {'PHP': Decimal('100'), 'USD': Decimal('100')}           2022  "
      ]
     },
     "execution_count": 12,
     "metadata": {},
     "output_type": "execute_result"
    }
   ],
   "source": [
    "df_pandas = repo.convert_list_of_dicts_to_pandas_df(txn_hist_client_1[\"transactions\"])\n",
    "df_pandas"
   ]
  }
 ],
 "metadata": {
  "kernelspec": {
   "display_name": "local-venv",
   "language": "python",
   "name": "local-venv"
  },
  "language_info": {
   "codemirror_mode": {
    "name": "ipython",
    "version": 3
   },
   "file_extension": ".py",
   "mimetype": "text/x-python",
   "name": "python",
   "nbconvert_exporter": "python",
   "pygments_lexer": "ipython3",
   "version": "3.9.13"
  }
 },
 "nbformat": 4,
 "nbformat_minor": 5
}
